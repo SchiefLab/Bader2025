{
 "cells": [
  {
   "cell_type": "markdown",
   "id": "6c4e1687-7336-4a95-aac6-0f94d217c795",
   "metadata": {},
   "source": [
    "# Imports"
   ]
  },
  {
   "cell_type": "code",
   "execution_count": 1,
   "id": "6143a99a-66b4-45fc-81ca-2cbd01f978e2",
   "metadata": {},
   "outputs": [],
   "source": [
    "# Built-in Python\n",
    "from pathlib import Path\n",
    "\n",
    "# Third Part Libraries\n",
    "from Bio.Seq import Seq\n",
    "from Bio.SeqRecord import SeqRecord\n",
    "from Bio import SeqIO\n",
    "import pandas as pd\n",
    "import numpy as np"
   ]
  },
  {
   "cell_type": "code",
   "execution_count": 3,
   "id": "74e0630f-d136-4dc8-b2e0-2d99b0903aba",
   "metadata": {},
   "outputs": [],
   "source": [
    "# Load paired parquet files\n",
    "parquets = list(Path('data/parquet-paired').glob('*.parquet'))"
   ]
  },
  {
   "cell_type": "code",
   "execution_count": 4,
   "id": "34b4fece-25dd-4e32-b8db-7be9f32615e2",
   "metadata": {},
   "outputs": [
    {
     "name": "stdout",
     "output_type": "stream",
     "text": [
      "data/parquet-paired/SRR1585274.parquet\n",
      "data/parquet-paired/1287148.parquet\n",
      "data/parquet-paired/1287158.parquet\n",
      "data/parquet-paired/1287151.parquet\n",
      "data/parquet-paired/1279073.parquet\n",
      "data/parquet-paired/1287150.parquet\n",
      "data/parquet-paired/SRR1585265.parquet\n",
      "data/parquet-paired/SRR1585275.parquet\n",
      "data/parquet-paired/1287159.parquet\n",
      "data/parquet-paired/1287149.parquet\n",
      "data/parquet-paired/1287152.parquet\n",
      "data/parquet-paired/SRR1585267.parquet\n",
      "data/parquet-paired/SRR1585248.parquet\n",
      "data/parquet-paired/1279068.parquet\n",
      "data/parquet-paired/SRR10358523.parquet\n",
      "data/parquet-paired/SRR1585249.parquet\n",
      "data/parquet-paired/1287153.parquet\n",
      "data/parquet-paired/1279075.parquet\n",
      "data/parquet-paired/1279065.parquet\n",
      "data/parquet-paired/1287156.parquet\n",
      "data/parquet-paired/1287146.parquet\n",
      "data/parquet-paired/1279074.parquet\n",
      "data/parquet-paired/1287147.parquet\n",
      "data/parquet-paired/1287157.parquet\n",
      "data/parquet-paired/SRR10358525.parquet\n",
      "data/parquet-paired/D326651.parquet\n",
      "data/parquet-paired/1287155.parquet\n",
      "data/parquet-paired/1287145.parquet\n",
      "data/parquet-paired/1279076.parquet\n",
      "data/parquet-paired/1279066.parquet\n",
      "data/parquet-paired/1287144.parquet\n",
      "data/parquet-paired/1287154.parquet\n",
      "data/parquet-paired/1279067.parquet\n",
      "data/parquet-paired/SRR10358524.parquet\n"
     ]
    }
   ],
   "source": [
    "# Read All Parquets\n",
    "dfs = []\n",
    "for parquet in parquets[:]:\n",
    "    print(parquet)\n",
    "    # Read parquet into a dataframe\n",
    "    _df = pd.read_parquet(parquet)\n",
    "    # Add dataframe to the list of dataframes\n",
    "    dfs.append(_df)\n",
    "# Concatenate dataframes together as 1 dataframe\n",
    "df = pd.concat(dfs)\n",
    "df = df.replace(np.nan, None)"
   ]
  },
  {
   "cell_type": "code",
   "execution_count": null,
   "id": "3b791946-85b0-43e6-bf4f-fda567265120",
   "metadata": {},
   "outputs": [],
   "source": [
    "# creates all paired BCR database and writes out as a csv file\n",
    "df.to_csv(\"all_pairs.csv\", index=False)"
   ]
  },
  {
   "cell_type": "code",
   "execution_count": 8,
   "id": "b1fd4064-9490-4c8d-9e89-7a912524b611",
   "metadata": {
    "scrolled": true
   },
   "outputs": [
    {
     "data": {
      "text/html": [
       "<div>\n",
       "<style scoped>\n",
       "    .dataframe tbody tr th:only-of-type {\n",
       "        vertical-align: middle;\n",
       "    }\n",
       "\n",
       "    .dataframe tbody tr th {\n",
       "        vertical-align: top;\n",
       "    }\n",
       "\n",
       "    .dataframe thead th {\n",
       "        text-align: right;\n",
       "    }\n",
       "</style>\n",
       "<table border=\"1\" class=\"dataframe\">\n",
       "  <thead>\n",
       "    <tr style=\"text-align: right;\">\n",
       "      <th></th>\n",
       "      <th>c_call_heavy</th>\n",
       "      <th>count</th>\n",
       "    </tr>\n",
       "  </thead>\n",
       "  <tbody>\n",
       "    <tr>\n",
       "      <th>0</th>\n",
       "      <td>IGHM*01</td>\n",
       "      <td>329645</td>\n",
       "    </tr>\n",
       "    <tr>\n",
       "      <th>1</th>\n",
       "      <td>IGHA1*01</td>\n",
       "      <td>20074</td>\n",
       "    </tr>\n",
       "    <tr>\n",
       "      <th>2</th>\n",
       "      <td>IGHG1*01</td>\n",
       "      <td>17162</td>\n",
       "    </tr>\n",
       "    <tr>\n",
       "      <th>3</th>\n",
       "      <td>IGHG2*01</td>\n",
       "      <td>11117</td>\n",
       "    </tr>\n",
       "    <tr>\n",
       "      <th>4</th>\n",
       "      <td>IGHA2*01</td>\n",
       "      <td>8477</td>\n",
       "    </tr>\n",
       "    <tr>\n",
       "      <th>5</th>\n",
       "      <td>IGHG3*01</td>\n",
       "      <td>6693</td>\n",
       "    </tr>\n",
       "    <tr>\n",
       "      <th>6</th>\n",
       "      <td>IGHG4*01</td>\n",
       "      <td>1920</td>\n",
       "    </tr>\n",
       "    <tr>\n",
       "      <th>7</th>\n",
       "      <td>IGHG1*01,IGHG2*01</td>\n",
       "      <td>1349</td>\n",
       "    </tr>\n",
       "    <tr>\n",
       "      <th>8</th>\n",
       "      <td>IGHA1*01,IGHA2*01</td>\n",
       "      <td>209</td>\n",
       "    </tr>\n",
       "    <tr>\n",
       "      <th>9</th>\n",
       "      <td>IGHG3*01,IGHG4*01</td>\n",
       "      <td>48</td>\n",
       "    </tr>\n",
       "    <tr>\n",
       "      <th>10</th>\n",
       "      <td>IGHG2*01,IGHG3*01</td>\n",
       "      <td>6</td>\n",
       "    </tr>\n",
       "    <tr>\n",
       "      <th>11</th>\n",
       "      <td>IGHG1*01,IGHG3*01</td>\n",
       "      <td>6</td>\n",
       "    </tr>\n",
       "    <tr>\n",
       "      <th>12</th>\n",
       "      <td>IGHE*01</td>\n",
       "      <td>3</td>\n",
       "    </tr>\n",
       "    <tr>\n",
       "      <th>13</th>\n",
       "      <td>IGHG2*01,IGHG4*01</td>\n",
       "      <td>2</td>\n",
       "    </tr>\n",
       "    <tr>\n",
       "      <th>14</th>\n",
       "      <td>IGKC*01</td>\n",
       "      <td>1</td>\n",
       "    </tr>\n",
       "  </tbody>\n",
       "</table>\n",
       "</div>"
      ],
      "text/plain": [
       "         c_call_heavy   count\n",
       "0             IGHM*01  329645\n",
       "1            IGHA1*01   20074\n",
       "2            IGHG1*01   17162\n",
       "3            IGHG2*01   11117\n",
       "4            IGHA2*01    8477\n",
       "5            IGHG3*01    6693\n",
       "6            IGHG4*01    1920\n",
       "7   IGHG1*01,IGHG2*01    1349\n",
       "8   IGHA1*01,IGHA2*01     209\n",
       "9   IGHG3*01,IGHG4*01      48\n",
       "10  IGHG2*01,IGHG3*01       6\n",
       "11  IGHG1*01,IGHG3*01       6\n",
       "12            IGHE*01       3\n",
       "13  IGHG2*01,IGHG4*01       2\n",
       "14            IGKC*01       1"
      ]
     },
     "execution_count": 8,
     "metadata": {},
     "output_type": "execute_result"
    }
   ],
   "source": [
    "# displays constant region call counts for all paired BCR database \n",
    "df['c_call_heavy'].value_counts().reset_index(name='count').rename(columns={'index': 'c_call_heavy'})"
   ]
  },
  {
   "cell_type": "code",
   "execution_count": 6,
   "id": "9071284d-3917-442a-933d-5d9fe27fd2a1",
   "metadata": {},
   "outputs": [],
   "source": [
    "# creates naive paired BCR database and writes out as a csv file\n",
    "filtered_df = df[\n",
    "    (df['c_call_heavy'] == \"IGHM*01\")\n",
    "]\n",
    "filtered_df.to_csv(\"naive_pairs.csv\", index=False)"
   ]
  },
  {
   "cell_type": "markdown",
   "id": "d5db254d-005f-41fa-9778-58c9ef142120",
   "metadata": {},
   "source": [
    "# Dataframe Filter Example"
   ]
  },
  {
   "cell_type": "code",
   "execution_count": null,
   "id": "72771c34-d77c-4264-8323-eca55415fc1d",
   "metadata": {},
   "outputs": [],
   "source": [
    "def pull_gene(df, gene_pattern, col):\n",
    "    sub_df = df[df[col].str.contains(gene_pattern)]\n",
    "    print('gene count', sub_df.shape[0], 'for pattern', gene_pattern)\n",
    "    return sub_df\n",
    "    \n",
    "vh146_df = pull_gene(df,  gene_pattern='^IGHV1-46', col='v_call_heavy')\n",
    "vk320_df = pull_gene(df,  gene_pattern='^IGKV3-20', col='v_call_light')\n",
    "\n",
    "pd.concat([vh146_df, vk320_df]).drop_duplicates()"
   ]
  },
  {
   "cell_type": "code",
   "execution_count": null,
   "id": "bd630893-e536-4f78-a876-7119c71cc349",
   "metadata": {},
   "outputs": [],
   "source": [
    "def pull_paried_gene(df: pd.DataFrame, gene_pattern_heavy: str, gene_pattern_light: str, col_heavy: str, col_light: str):\n",
    "    # filter heavy\n",
    "    heavy_sub_df = df[df[col_heavy].str.contains(gene_pattern_heavy)]\n",
    "    paired_sub_df = heavy_sub_df[heavy_sub_df[col_light].str.contains(gene_pattern_light)]\n",
    "    \n",
    "    print('gene count', paired_sub_df.shape[0], 'for patterns', gene_pattern_heavy, gene_pattern_light)\n",
    "    return paired_sub_df\n",
    "\n",
    "vh146_vk320_df = pull_paried_gene(\n",
    "    df=df,  \n",
    "    gene_pattern_heavy='^IGHV1-46', \n",
    "    col_heavy='v_call_heavy', \n",
    "    gene_pattern_light='^IGKV3-20|^IGKV3-11', \n",
    "    col_light='v_call_light',\n",
    ")\n",
    "\n",
    "vh146_vk320_df[['sequence_id_heavy', 'sequence_id_light', 'v_call_heavy', 'v_call_light']]"
   ]
  },
  {
   "cell_type": "code",
   "execution_count": null,
   "id": "aecd19b3-ccc3-4fbb-83af-ae3421348946",
   "metadata": {},
   "outputs": [],
   "source": [
    "def pull_paried_gene(df: pd.DataFrame, gene_pattern_heavy: str, gene_pattern_light: str, col_heavy: str, col_light: str):\n",
    "    # filter heavy\n",
    "    heavy_sub_df = df[df[col_heavy].str.contains(gene_pattern_heavy)]\n",
    "    paired_sub_df = heavy_sub_df[heavy_sub_df[col_light].str.contains(gene_pattern_light)]\n",
    "    \n",
    "    print('gene count', paired_sub_df.shape[0], 'for patterns', gene_pattern_heavy, gene_pattern_light)\n",
    "    return paired_sub_df\n",
    "\n",
    "vh146_vk320_df = pull_paried_gene(\n",
    "    df=df,  \n",
    "    gene_pattern_heavy='^IGHV1-2\\*', \n",
    "    col_heavy='v_call_heavy', \n",
    "    gene_pattern_light='^IGKV3-20|^IGKV3-11', \n",
    "    col_light='v_call_light',\n",
    ")\n",
    "\n",
    "vh146_vk320_df[['sequence_id_heavy', 'sequence_id_light', 'v_call_heavy', 'v_call_light']]"
   ]
  },
  {
   "cell_type": "markdown",
   "id": "171fe0f2-3c43-4e78-bf8d-357cada00782",
   "metadata": {},
   "source": [
    "# Make a copy of a dataframe"
   ]
  },
  {
   "cell_type": "code",
   "execution_count": null,
   "id": "46679a3c-8058-47a0-b3ba-70c52e68a40f",
   "metadata": {},
   "outputs": [],
   "source": [
    "df = vh146_vk320_df.copy()\n",
    "df"
   ]
  },
  {
   "cell_type": "markdown",
   "id": "06950088-5f8e-46d5-aa65-ec979558e7b3",
   "metadata": {},
   "source": [
    "# Save OAS Dataframe to CSV"
   ]
  },
  {
   "cell_type": "code",
   "execution_count": null,
   "id": "c5fbb0ec-5f80-458c-a7c1-e5311d57b600",
   "metadata": {},
   "outputs": [],
   "source": [
    "vh146_vl320_df.to_csv('VH1-46_VK3-20_paired.csv')"
   ]
  },
  {
   "cell_type": "markdown",
   "id": "f981405f-5c1a-4238-a7ac-69503491fe78",
   "metadata": {
    "tags": []
   },
   "source": [
    "# Save OAS Dataframe to Parquet\n",
    "## Parquets are smaller and faster, but lack visualization from Excel"
   ]
  },
  {
   "cell_type": "code",
   "execution_count": null,
   "id": "cec4cf88-af90-4a4e-9fb8-052354b845ab",
   "metadata": {},
   "outputs": [],
   "source": [
    "vh146_vl320_df.to_parquet('VH1-46_VK3-20_paired.parquet')"
   ]
  },
  {
   "cell_type": "markdown",
   "id": "7661a879-1565-4af4-be36-988ae2189448",
   "metadata": {},
   "source": [
    "# CDR3 length checks"
   ]
  },
  {
   "cell_type": "code",
   "execution_count": null,
   "id": "1a29902e-b7ee-4fe0-b84d-81f996d9cb68",
   "metadata": {},
   "outputs": [],
   "source": [
    "vh146_vk320_df.cdr3_aa_heavy.str.len().value_counts()"
   ]
  },
  {
   "cell_type": "code",
   "execution_count": null,
   "id": "65554ffb-694b-4e7d-958d-b1767ec82df0",
   "metadata": {},
   "outputs": [],
   "source": [
    "vh146_vk320_df.cdr3_aa_light.str.len().value_counts()"
   ]
  },
  {
   "cell_type": "markdown",
   "id": "720e263d-f9c0-4681-b531-296a9415cf59",
   "metadata": {},
   "source": [
    "# CDR3 Length add column"
   ]
  },
  {
   "cell_type": "code",
   "execution_count": null,
   "id": "0a29d007-69a2-49f4-a787-e814df7d3c85",
   "metadata": {},
   "outputs": [],
   "source": [
    "vh146_vk320_df['cdr3_aa_heavy_length'] = vh146_vk320_df.cdr3_aa_heavy.str.len()\n",
    "vh146_vk320_df['cdr3_aa_light_length'] = vh146_vk320_df.cdr3_aa_light.str.len()\n",
    "vh146_vk320_df"
   ]
  },
  {
   "cell_type": "markdown",
   "id": "91bbef44-4b17-4307-be04-83a2099962f8",
   "metadata": {},
   "source": [
    "# Create Fasta from Seq ID + Seq of interest"
   ]
  },
  {
   "cell_type": "code",
   "execution_count": null,
   "id": "29080b08-d3ce-4a10-9335-d61d34af0085",
   "metadata": {},
   "outputs": [],
   "source": [
    "seq_id = 'sequence_id_heavy'\n",
    "seq_col = 'sequence_heavy'\n",
    "folder_destination = 'dbader'\n",
    "filename = 'sample'\n",
    "\n",
    "# Create Sequence Records\n",
    "sequences = []\n",
    "for i, row in df.iterrows():\n",
    "    sequences.append(SeqRecord(id=row[seq_id], seq=Seq(row[seq_col])))\n",
    "    \n",
    "# Save Sequence Records to fasta file\n",
    "with open(f\"{folder_destination}/{filename}.fasta\", \"w\") as output_handle:\n",
    "    SeqIO.write(sequences=sequences, handle=output_handle, format=\"fasta\")"
   ]
  },
  {
   "cell_type": "code",
   "execution_count": null,
   "id": "f2955783-84ed-40c5-a7a8-fafcaadf84c9",
   "metadata": {},
   "outputs": [],
   "source": []
  }
 ],
 "metadata": {
  "kernelspec": {
   "display_name": "Python [conda env:sadie]",
   "language": "python",
   "name": "conda-env-sadie-py"
  },
  "language_info": {
   "codemirror_mode": {
    "name": "ipython",
    "version": 3
   },
   "file_extension": ".py",
   "mimetype": "text/x-python",
   "name": "python",
   "nbconvert_exporter": "python",
   "pygments_lexer": "ipython3",
   "version": "3.10.5"
  }
 },
 "nbformat": 4,
 "nbformat_minor": 5
}
