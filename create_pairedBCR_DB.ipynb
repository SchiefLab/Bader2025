{
 "cells": [
  {
   "cell_type": "markdown",
   "id": "6c4e1687-7336-4a95-aac6-0f94d217c795",
   "metadata": {},
   "source": [
    "# Imports"
   ]
  },
  {
   "cell_type": "code",
   "execution_count": 1,
   "id": "6143a99a-66b4-45fc-81ca-2cbd01f978e2",
   "metadata": {},
   "outputs": [],
   "source": [
    "# Built-in Python\n",
    "from pathlib import Path\n",
    "\n",
    "# Third Part Libraries\n",
    "from Bio.Seq import Seq\n",
    "from Bio.SeqRecord import SeqRecord\n",
    "from Bio import SeqIO\n",
    "import pandas as pd\n",
    "import numpy as np"
   ]
  },
  {
   "cell_type": "code",
   "execution_count": 2,
   "id": "74e0630f-d136-4dc8-b2e0-2d99b0903aba",
   "metadata": {},
   "outputs": [],
   "source": [
    "# Load paired parquet files\n",
    "parquets = list(Path('parquet-paired').glob('*.parquet'))"
   ]
  },
  {
   "cell_type": "code",
   "execution_count": 3,
   "id": "34b4fece-25dd-4e32-b8db-7be9f32615e2",
   "metadata": {},
   "outputs": [
    {
     "name": "stdout",
     "output_type": "stream",
     "text": [
      "parquet-paired/SRR1585274.parquet\n",
      "parquet-paired/1287148.parquet\n",
      "parquet-paired/1287158.parquet\n",
      "parquet-paired/1287151.parquet\n",
      "parquet-paired/1279073.parquet\n",
      "parquet-paired/1287150.parquet\n",
      "parquet-paired/SRR1585265.parquet\n",
      "parquet-paired/SRR1585275.parquet\n",
      "parquet-paired/1287159.parquet\n",
      "parquet-paired/1287149.parquet\n",
      "parquet-paired/1287152.parquet\n",
      "parquet-paired/SRR1585267.parquet\n",
      "parquet-paired/SRR1585248.parquet\n",
      "parquet-paired/1279068.parquet\n",
      "parquet-paired/SRR10358523.parquet\n",
      "parquet-paired/SRR1585249.parquet\n",
      "parquet-paired/1287153.parquet\n",
      "parquet-paired/1279075.parquet\n",
      "parquet-paired/1279065.parquet\n",
      "parquet-paired/1287156.parquet\n",
      "parquet-paired/1287146.parquet\n",
      "parquet-paired/1279074.parquet\n",
      "parquet-paired/1287147.parquet\n",
      "parquet-paired/1287157.parquet\n",
      "parquet-paired/SRR10358525.parquet\n",
      "parquet-paired/D326651.parquet\n",
      "parquet-paired/1287155.parquet\n",
      "parquet-paired/1287145.parquet\n",
      "parquet-paired/1279076.parquet\n",
      "parquet-paired/1279066.parquet\n",
      "parquet-paired/1287144.parquet\n",
      "parquet-paired/1287154.parquet\n",
      "parquet-paired/1279067.parquet\n",
      "parquet-paired/SRR10358524.parquet\n"
     ]
    }
   ],
   "source": [
    "# Read All Parquets\n",
    "dfs = []\n",
    "for parquet in parquets[:]:\n",
    "    print(parquet)\n",
    "    # Read parquet into a dataframe\n",
    "    _df = pd.read_parquet(parquet)\n",
    "    # Add dataframe to the list of dataframes\n",
    "    dfs.append(_df)\n",
    "# Concatenate dataframes together as 1 dataframe\n",
    "df = pd.concat(dfs)\n",
    "df = df.replace(np.nan, None)"
   ]
  },
  {
   "cell_type": "code",
   "execution_count": 6,
   "id": "3b791946-85b0-43e6-bf4f-fda567265120",
   "metadata": {},
   "outputs": [],
   "source": [
    "# creates all paired BCR database and writes out as a csv file\n",
    "df.to_csv(\"all_pairs.csv\", index=False)"
   ]
  },
  {
   "cell_type": "code",
   "execution_count": 4,
   "id": "b1fd4064-9490-4c8d-9e89-7a912524b611",
   "metadata": {
    "scrolled": true
   },
   "outputs": [
    {
     "data": {
      "text/html": [
       "<div>\n",
       "<style scoped>\n",
       "    .dataframe tbody tr th:only-of-type {\n",
       "        vertical-align: middle;\n",
       "    }\n",
       "\n",
       "    .dataframe tbody tr th {\n",
       "        vertical-align: top;\n",
       "    }\n",
       "\n",
       "    .dataframe thead th {\n",
       "        text-align: right;\n",
       "    }\n",
       "</style>\n",
       "<table border=\"1\" class=\"dataframe\">\n",
       "  <thead>\n",
       "    <tr style=\"text-align: right;\">\n",
       "      <th></th>\n",
       "      <th>c_call_heavy</th>\n",
       "      <th>count</th>\n",
       "    </tr>\n",
       "  </thead>\n",
       "  <tbody>\n",
       "    <tr>\n",
       "      <th>0</th>\n",
       "      <td>IGHM*01</td>\n",
       "      <td>329645</td>\n",
       "    </tr>\n",
       "    <tr>\n",
       "      <th>1</th>\n",
       "      <td>IGHA1*01</td>\n",
       "      <td>20074</td>\n",
       "    </tr>\n",
       "    <tr>\n",
       "      <th>2</th>\n",
       "      <td>IGHG1*01</td>\n",
       "      <td>17162</td>\n",
       "    </tr>\n",
       "    <tr>\n",
       "      <th>3</th>\n",
       "      <td>IGHG2*01</td>\n",
       "      <td>11117</td>\n",
       "    </tr>\n",
       "    <tr>\n",
       "      <th>4</th>\n",
       "      <td>IGHA2*01</td>\n",
       "      <td>8477</td>\n",
       "    </tr>\n",
       "    <tr>\n",
       "      <th>5</th>\n",
       "      <td>IGHG3*01</td>\n",
       "      <td>6693</td>\n",
       "    </tr>\n",
       "    <tr>\n",
       "      <th>6</th>\n",
       "      <td>IGHG4*01</td>\n",
       "      <td>1920</td>\n",
       "    </tr>\n",
       "    <tr>\n",
       "      <th>7</th>\n",
       "      <td>IGHG1*01,IGHG2*01</td>\n",
       "      <td>1349</td>\n",
       "    </tr>\n",
       "    <tr>\n",
       "      <th>8</th>\n",
       "      <td>IGHA1*01,IGHA2*01</td>\n",
       "      <td>209</td>\n",
       "    </tr>\n",
       "    <tr>\n",
       "      <th>9</th>\n",
       "      <td>IGHG3*01,IGHG4*01</td>\n",
       "      <td>48</td>\n",
       "    </tr>\n",
       "    <tr>\n",
       "      <th>10</th>\n",
       "      <td>IGHG2*01,IGHG3*01</td>\n",
       "      <td>6</td>\n",
       "    </tr>\n",
       "    <tr>\n",
       "      <th>11</th>\n",
       "      <td>IGHG1*01,IGHG3*01</td>\n",
       "      <td>6</td>\n",
       "    </tr>\n",
       "    <tr>\n",
       "      <th>12</th>\n",
       "      <td>IGHE*01</td>\n",
       "      <td>3</td>\n",
       "    </tr>\n",
       "    <tr>\n",
       "      <th>13</th>\n",
       "      <td>IGHG2*01,IGHG4*01</td>\n",
       "      <td>2</td>\n",
       "    </tr>\n",
       "    <tr>\n",
       "      <th>14</th>\n",
       "      <td>IGKC*01</td>\n",
       "      <td>1</td>\n",
       "    </tr>\n",
       "  </tbody>\n",
       "</table>\n",
       "</div>"
      ],
      "text/plain": [
       "         c_call_heavy   count\n",
       "0             IGHM*01  329645\n",
       "1            IGHA1*01   20074\n",
       "2            IGHG1*01   17162\n",
       "3            IGHG2*01   11117\n",
       "4            IGHA2*01    8477\n",
       "5            IGHG3*01    6693\n",
       "6            IGHG4*01    1920\n",
       "7   IGHG1*01,IGHG2*01    1349\n",
       "8   IGHA1*01,IGHA2*01     209\n",
       "9   IGHG3*01,IGHG4*01      48\n",
       "10  IGHG2*01,IGHG3*01       6\n",
       "11  IGHG1*01,IGHG3*01       6\n",
       "12            IGHE*01       3\n",
       "13  IGHG2*01,IGHG4*01       2\n",
       "14            IGKC*01       1"
      ]
     },
     "execution_count": 4,
     "metadata": {},
     "output_type": "execute_result"
    }
   ],
   "source": [
    "# displays constant region call counts for all paired BCR database \n",
    "df['c_call_heavy'].value_counts().reset_index(name='count').rename(columns={'index': 'c_call_heavy'})"
   ]
  },
  {
   "cell_type": "code",
   "execution_count": 7,
   "id": "9071284d-3917-442a-933d-5d9fe27fd2a1",
   "metadata": {},
   "outputs": [],
   "source": [
    "# creates naive paired BCR database and writes out as a csv file\n",
    "filtered_df = df[\n",
    "    (df['c_call_heavy'] == \"IGHM*01\")\n",
    "]\n",
    "filtered_df.to_csv(\"naive_pairs.csv\", index=False)"
   ]
  }
 ],
 "metadata": {
  "kernelspec": {
   "display_name": "Python [conda env:sadie]",
   "language": "python",
   "name": "conda-env-sadie-py"
  },
  "language_info": {
   "codemirror_mode": {
    "name": "ipython",
    "version": 3
   },
   "file_extension": ".py",
   "mimetype": "text/x-python",
   "name": "python",
   "nbconvert_exporter": "python",
   "pygments_lexer": "ipython3",
   "version": "3.10.5"
  }
 },
 "nbformat": 4,
 "nbformat_minor": 5
}
